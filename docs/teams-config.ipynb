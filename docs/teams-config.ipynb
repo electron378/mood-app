{
 "cells": [
  {
   "cell_type": "markdown",
   "metadata": {},
   "source": [
    "# Setting teams up\n",
    "In the deployment process someone needs to configure the teams.json to represent the organization structure. The best results are achieved when the end selectable team has at least 20 participants with no upper limit.\n",
    "\n",
    "An example of the teams.json is given below:"
   ]
  },
  {
   "cell_type": "code",
   "execution_count": 41,
   "metadata": {
    "collapsed": true
   },
   "outputs": [],
   "source": [
    "sample_content_of_teams_json = \"\"\"{\n",
    "  \"teams\": [\n",
    "    { \"name\": \"MegaTeam1\", \"spacer\": true,\n",
    "      \"children\": [\n",
    "          { \"name\": \"Team-1\"},\n",
    "          { \"name\": \"Team-2\"},\n",
    "          { \"name\": \"Team 3\",\n",
    "            \"children\": [\n",
    "            { \"name\": \"team 3\"},\n",
    "            { \"name\": \"team 121\"}]},\n",
    "          { \"name\": \"Team 4\"}]},\n",
    "    { \"name\": \"Team 5\"},\n",
    "    { \"name\": \"Other\"}\n",
    "  ]\n",
    "}\"\"\""
   ]
  },
  {
   "cell_type": "markdown",
   "metadata": {},
   "source": [
    "The code below digests the config and produces unique key for each team."
   ]
  },
  {
   "cell_type": "code",
   "execution_count": 43,
   "metadata": {
    "collapsed": false
   },
   "outputs": [],
   "source": [
    "import json\n",
    "from hashlib import md5\n",
    "\n",
    "\n",
    "class TeamConfig(object):\n",
    "    \"\"\"Flattens teams.json config into a digestable structure\"\"\"\n",
    "    \n",
    "    def __init__(self, config_json_string):\n",
    "        self.prefixes = []\n",
    "        for root_object in json.loads(config_json_string)[\"teams\"]:\n",
    "            self.recursive_fix_(root_object)\n",
    "\n",
    "    def recursive_fix_(self, a, prefix=\"\"):\n",
    "        \"\"\"A helper function to navigate the nested teams\"\"\"\n",
    "        prefix = prefix + \".\" if len(prefix) > 0 else prefix\n",
    "        self.prefixes.append(dict(\n",
    "            name=a['name'],\n",
    "            key=md5(prefix + a[\"name\"]).hexdigest(),\n",
    "            spacer=True if \"spacer\" in a else False))\n",
    "        if \"children\" in a:\n",
    "            prefix += a[\"name\"]\n",
    "            for node in a[\"children\"]:\n",
    "                self.recursive_fix_(node, prefix)        "
   ]
  },
  {
   "cell_type": "markdown",
   "metadata": {},
   "source": [
    "An example of a flattened config goes below:"
   ]
  },
  {
   "cell_type": "code",
   "execution_count": 42,
   "metadata": {
    "collapsed": false
   },
   "outputs": [
    {
     "data": {
      "text/plain": [
       "[{'key': '56b27cffe500f954d7fcd98ec895ba02',\n",
       "  'name': u'MegaTeam1',\n",
       "  'spacer': True},\n",
       " {'key': 'd8f7299d2df7463a2b6febd0bc3554f6',\n",
       "  'name': u'Team-1',\n",
       "  'spacer': False},\n",
       " {'key': '563bf6e58ebc37552ff540e0ae173c4a',\n",
       "  'name': u'Team-2',\n",
       "  'spacer': False},\n",
       " {'key': '38f746ae282f0473204e89ed26d6e336',\n",
       "  'name': u'Team 3',\n",
       "  'spacer': False},\n",
       " {'key': 'fdf2bc5fd5c366ec3bfca9d75f489a5c',\n",
       "  'name': u'team 3',\n",
       "  'spacer': False},\n",
       " {'key': '16d42d08368a0e2a42ca3179c7bb6c8f',\n",
       "  'name': u'team 121',\n",
       "  'spacer': False},\n",
       " {'key': '78e853e8d12868a2db2a0c809a50f262',\n",
       "  'name': u'Team 4',\n",
       "  'spacer': False},\n",
       " {'key': '931a462378ba942054861d2f84abf2d8',\n",
       "  'name': u'Team 5',\n",
       "  'spacer': False},\n",
       " {'key': '6311ae17c1ee52b36e68aaf4ad066387',\n",
       "  'name': u'Other',\n",
       "  'spacer': False}]"
      ]
     },
     "execution_count": 42,
     "metadata": {},
     "output_type": "execute_result"
    }
   ],
   "source": [
    "team_conf = TeamConfig(json_input)\n",
    "team_conf.prefixes"
   ]
  }
 ],
 "metadata": {
  "kernelspec": {
   "display_name": "Python 2",
   "language": "python",
   "name": "python2"
  },
  "language_info": {
   "codemirror_mode": {
    "name": "ipython",
    "version": 2
   },
   "file_extension": ".py",
   "mimetype": "text/x-python",
   "name": "python",
   "nbconvert_exporter": "python",
   "pygments_lexer": "ipython2",
   "version": "2.7.12"
  }
 },
 "nbformat": 4,
 "nbformat_minor": 2
}

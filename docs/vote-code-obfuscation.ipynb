{
 "cells": [
  {
   "cell_type": "markdown",
   "metadata": {},
   "source": [
    "# Vote-code Obfuscation\n",
    "As we are not able to properly encrypt the traffic,\n",
    "let's make the vote-code interception more uncomfortable\n",
    "and effort-intensive.\n",
    "    \n",
    "The traffic interception tool may catch the options list\n",
    "when it is deployed to a client and the vote-code when a user votes. \n",
    "    \n",
    "By randomizing vote-codes on a daily basis we'll make it hard\n",
    "enough to track the votes history of an individual machine or\n",
    "at scale. It is not impossible but becomes a costly IT that\n",
    "should be hard to justify.\n",
    "    \n",
    "This combined with the fact that the vote may only be tight \n",
    "to a machine but not the individual makes the obfuscation \n",
    "mechanism sufficient for the use case."
   ]
  },
  {
   "cell_type": "code",
   "execution_count": 1,
   "metadata": {
    "collapsed": true
   },
   "outputs": [],
   "source": [
    "from itertools import permutations\n",
    "from hashlib import md5\n",
    "from time import time\n",
    "from random import shuffle, choice\n",
    "    \n",
    "class VoteCodeObfuscator(object):\n",
    "    \"\"\"Provides the obfuscation means for the interceptable traffic\"\"\"\n",
    "    \n",
    "    def __init__(self, options=None, variants=None):\n",
    "        \"\"\"provides basic interfaces for unit testing\"\"\"\n",
    "        self.coded_options = None\n",
    "        self.variants = variants\n",
    "        self.options = options\n",
    "    \n",
    "    def encode_options(self):\n",
    "        \"\"\"Create pseudo-random option keys\"\"\"\n",
    "        salted = []\n",
    "        for i, opt in enumerate(self.options):\n",
    "            salted.append(md5(str(i) + str(time())).hexdigest())\n",
    "        self.coded_options = salted\n",
    "    \n",
    "    def create_variants(self):\n",
    "        \"\"\"Creates vote-code combinations\"\"\"\n",
    "        temp_variants = []\n",
    "        salted = []\n",
    "        for opt in self.options:\n",
    "            salted.append(md5(opt + str(time())).hexdigest())\n",
    "        shuffle(self.options)\n",
    "        for variant in permutations(salted):\n",
    "            temp_variants.append(variant)\n",
    "        self.variants = dict(zip(\n",
    "                [md5(str(x)).hexdigest() for x in temp_variants],\n",
    "                temp_variants))\n",
    "        \n",
    "    def deploy(self):\n",
    "        \"\"\"Returns a random variant for deployment\"\"\"\n",
    "        key = choice(self.variants.keys())\n",
    "        return {\"key\":key, \"options\":self.variants[key]}\n",
    "        \n",
    "    def decode(self, combination_key, coded_option):\n",
    "        \"\"\"Returns the decoded option code\n",
    "        If the inputs are expired returns False\"\"\"\n",
    "        if combination_key not in self.variants.keys():\n",
    "            return False\n",
    "        variant = self.variants[combination_key]\n",
    "        if coded_option not in variant:\n",
    "            return False\n",
    "        return self.options[variant.index(coded_option)]"
   ]
  },
  {
   "cell_type": "markdown",
   "metadata": {},
   "source": [
    "## Application scenario:\n",
    "The code below is run by a worker (independent process) on a day change event. The resulting variants map is then saved to the disk so that any worker process can access it."
   ]
  },
  {
   "cell_type": "code",
   "execution_count": 2,
   "metadata": {
    "collapsed": true
   },
   "outputs": [],
   "source": [
    "moods_obfuscator = VoteCodeObfuscator(\n",
    "    options=[\"opt1\", \"opt2\", \"opt3\", \"opt4\"]) \n",
    "moods_obfuscator.create_variants()"
   ]
  },
  {
   "cell_type": "markdown",
   "metadata": {},
   "source": [
    "Each time a client requiests moods widget deployment, the server will reply with a random variant like below:"
   ]
  },
  {
   "cell_type": "code",
   "execution_count": 3,
   "metadata": {
    "collapsed": false
   },
   "outputs": [
    {
     "data": {
      "text/plain": [
       "{'key': 'b55645bd979c9dc9f1a8e18289d4f4d8',\n",
       " 'options': ('991c25c9c377bb9fd1bb1152d5017be5',\n",
       "  '785d915eb2c1fbb67b037fa6955a44e3',\n",
       "  '396f87befcc04b908055d403f5c4ee49',\n",
       "  'd8d188aaefee9c9ff14ee85f8a140c08')}"
      ]
     },
     "execution_count": 3,
     "metadata": {},
     "output_type": "execute_result"
    }
   ],
   "source": [
    "moods_obfuscator.deploy()"
   ]
  },
  {
   "cell_type": "markdown",
   "metadata": {},
   "source": [
    "When a user votes, the client sends back the variant code and the option code. A worker picks up the message and decodes it to get the actual opton code. An option code is then used to perform +1 operation on the column within the daily metrics that matches the option key"
   ]
  },
  {
   "cell_type": "code",
   "execution_count": 4,
   "metadata": {
    "collapsed": false
   },
   "outputs": [
    {
     "name": "stdout",
     "output_type": "stream",
     "text": [
      "opt2\n"
     ]
    }
   ],
   "source": [
    "print moods_obfuscator.decode(\n",
    "    'b55645bd979c9dc9f1a8e18289d4f4d8', \n",
    "    '396f87befcc04b908055d403f5c4ee49')"
   ]
  },
  {
   "cell_type": "markdown",
   "metadata": {},
   "source": [
    "if a user sends the vote from a widget session that was deployed say a day ago decoding will fail and return False. The same obfuscation logic is used for the \"why-bad\" poll."
   ]
  },
  {
   "cell_type": "code",
   "execution_count": 5,
   "metadata": {
    "collapsed": false,
    "scrolled": true
   },
   "outputs": [
    {
     "name": "stdout",
     "output_type": "stream",
     "text": [
      "False\n"
     ]
    }
   ],
   "source": [
    "print moods_obfuscator.decode(\n",
    "    '968c48a1a75ff8beabd6f4ecf0cbf0dc', \n",
    "    'edda6cc6dbc632384664964259d6b694')"
   ]
  }
 ],
 "metadata": {
  "kernelspec": {
   "display_name": "Python 2",
   "language": "python",
   "name": "python2"
  },
  "language_info": {
   "codemirror_mode": {
    "name": "ipython",
    "version": 2
   },
   "file_extension": ".py",
   "mimetype": "text/x-python",
   "name": "python",
   "nbconvert_exporter": "python",
   "pygments_lexer": "ipython2",
   "version": "2.7.12"
  }
 },
 "nbformat": 4,
 "nbformat_minor": 2
}
